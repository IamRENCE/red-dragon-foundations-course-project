{
 "cells": [
  {
   "cell_type": "markdown",
   "id": "935838c9-63df-4a91-bd3c-0154e1981d9c",
   "metadata": {},
   "source": [
    "# Setup"
   ]
  },
  {
   "cell_type": "code",
   "execution_count": 1,
   "id": "371fb2e5-c66d-4b61-ae67-ceafb7fffadb",
   "metadata": {},
   "outputs": [],
   "source": [
    "import os\n",
    "\n",
    "os.environ[\"KERAS_BACKEND\"] = \"tensorflow\"\n",
    "\n",
    "import tensorflow as tf\n",
    "import pandas as pd\n",
    "import keras\n",
    "from keras.utils import FeatureSpace"
   ]
  },
  {
   "cell_type": "code",
   "execution_count": 2,
   "id": "912a88b3-c32f-4e3a-b694-7045b80f66d0",
   "metadata": {},
   "outputs": [
    {
     "name": "stdout",
     "output_type": "stream",
     "text": [
      "Tue Sep 10 01:57:04 2024       \n",
      "+-----------------------------------------------------------------------------------------+\n",
      "| NVIDIA-SMI 551.86                 Driver Version: 551.86         CUDA Version: 12.4     |\n",
      "|-----------------------------------------+------------------------+----------------------+\n",
      "| GPU  Name                     TCC/WDDM  | Bus-Id          Disp.A | Volatile Uncorr. ECC |\n",
      "| Fan  Temp   Perf          Pwr:Usage/Cap |           Memory-Usage | GPU-Util  Compute M. |\n",
      "|                                         |                        |               MIG M. |\n",
      "|=========================================+========================+======================|\n",
      "|   0  NVIDIA GeForce RTX 2080 ...  WDDM  |   00000000:09:00.0  On |                  N/A |\n",
      "| 29%   46C    P0             57W /  250W |    2942MiB /   8192MiB |      2%      Default |\n",
      "|                                         |                        |                  N/A |\n",
      "+-----------------------------------------+------------------------+----------------------+\n",
      "                                                                                         \n",
      "+-----------------------------------------------------------------------------------------+\n",
      "| Processes:                                                                              |\n",
      "|  GPU   GI   CI        PID   Type   Process name                              GPU Memory |\n",
      "|        ID   ID                                                               Usage      |\n",
      "|=========================================================================================|\n",
      "|    0   N/A  N/A      4424    C+G   ...m Files (x86)\\Overwolf\\Overwolf.exe      N/A      |\n",
      "|    0   N/A  N/A      7820    C+G   ...2txyewy\\StartMenuExperienceHost.exe      N/A      |\n",
      "|    0   N/A  N/A      7880    C+G   ...nt.CBS_cw5n1h2txyewy\\SearchHost.exe      N/A      |\n",
      "|    0   N/A  N/A      8148    C+G   ...GeForce Experience\\NVIDIA Share.exe      N/A      |\n",
      "|    0   N/A  N/A     10064    C+G   C:\\Windows\\explorer.exe                     N/A      |\n",
      "|    0   N/A  N/A     11228    C+G   ...rwolf\\0.258.1.7\\OverwolfBrowser.exe      N/A      |\n",
      "|    0   N/A  N/A     13588    C+G   ...GeForce Experience\\NVIDIA Share.exe      N/A      |\n",
      "|    0   N/A  N/A     14960    C+G   ...t.LockApp_cw5n1h2txyewy\\LockApp.exe      N/A      |\n",
      "|    0   N/A  N/A     15988    C+G   ...CBS_cw5n1h2txyewy\\TextInputHost.exe      N/A      |\n",
      "|    0   N/A  N/A     16776    C+G   ...ekyb3d8bbwe\\PhoneExperienceHost.exe      N/A      |\n",
      "|    0   N/A  N/A     17124    C+G   ...42.0_x64__8wekyb3d8bbwe\\GameBar.exe      N/A      |\n",
      "|    0   N/A  N/A     17332    C+G   ...les\\Microsoft OneDrive\\OneDrive.exe      N/A      |\n",
      "|    0   N/A  N/A     17896    C+G   ...al\\Discord\\app-1.0.9162\\Discord.exe      N/A      |\n",
      "|    0   N/A  N/A     17944    C+G   C:\\Program Files\\NZXT CAM\\NZXT CAM.exe      N/A      |\n",
      "|    0   N/A  N/A     20660    C+G   ...on\\wallpaper_engine\\wallpaper64.exe      N/A      |\n",
      "|    0   N/A  N/A     21248    C+G   ... Synapse 3 Host\\Razer Synapse 3.exe      N/A      |\n",
      "|    0   N/A  N/A     22036    C+G   ...ogram Files\\Surfshark\\Surfshark.exe      N/A      |\n",
      "|    0   N/A  N/A     22632    C+G   ...\\cef\\cef.win7x64\\steamwebhelper.exe      N/A      |\n",
      "|    0   N/A  N/A     23280    C+G   ...Brave-Browser\\Application\\brave.exe      N/A      |\n",
      "|    0   N/A  N/A     25368    C+G   ...siveControlPanel\\SystemSettings.exe      N/A      |\n",
      "|    0   N/A  N/A     25676    C+G   ...on\\128.0.2739.67\\msedgewebview2.exe      N/A      |\n",
      "|    0   N/A  N/A     26776    C+G   ...5n1h2txyewy\\ShellExperienceHost.exe      N/A      |\n",
      "|    0   N/A  N/A     27044    C+G   ...54.0_x64__zpdnekdrzrea0\\Spotify.exe      N/A      |\n",
      "|    0   N/A  N/A     27240    C+G   ..._x64__3c1yjt4zspk6g\\SmartThings.exe      N/A      |\n",
      "|    0   N/A  N/A     28324    C+G   ...4.0_x64__cv1g1gvanyjgm\\WhatsApp.exe      N/A      |\n",
      "|    0   N/A  N/A     28416    C+G   ...aam7r\\AcrobatNotificationClient.exe      N/A      |\n",
      "|    0   N/A  N/A     28752    C+G   ...aming\\Telegram Desktop\\Telegram.exe      N/A      |\n",
      "|    0   N/A  N/A     30352    C+G   ...\\cef\\cef.win7x64\\steamwebhelper.exe      N/A      |\n",
      "|    0   N/A  N/A     32972    C+G   ...__8wekyb3d8bbwe\\WindowsTerminal.exe      N/A      |\n",
      "+-----------------------------------------------------------------------------------------+\n"
     ]
    }
   ],
   "source": [
    "!nvidia-smi"
   ]
  },
  {
   "cell_type": "code",
   "execution_count": null,
   "id": "f604042d-2d45-4c17-8593-12053764cbb2",
   "metadata": {},
   "outputs": [],
   "source": []
  },
  {
   "cell_type": "markdown",
   "id": "1461f10c-cb03-4d54-b866-fea2e1afc1a8",
   "metadata": {},
   "source": [
    "# Preparing Data"
   ]
  },
  {
   "cell_type": "code",
   "execution_count": 3,
   "id": "c2a1393a-4d3d-4b25-86f4-914a6e568aed",
   "metadata": {},
   "outputs": [],
   "source": [
    "file_url = \"data/bank_customer_churn_dataset.csv\"\n",
    "df = pd.read_csv(file_url)"
   ]
  },
  {
   "cell_type": "code",
   "execution_count": 4,
   "id": "09e0836e-d5b4-468a-b33c-79583829caba",
   "metadata": {},
   "outputs": [
    {
     "name": "stdout",
     "output_type": "stream",
     "text": [
      "(10002, 14)\n"
     ]
    }
   ],
   "source": [
    "print(df.shape)"
   ]
  },
  {
   "cell_type": "code",
   "execution_count": 5,
   "id": "0cce25dc-3cd6-4934-984b-d48125f6ad51",
   "metadata": {},
   "outputs": [
    {
     "data": {
      "text/html": [
       "<div>\n",
       "<style scoped>\n",
       "    .dataframe tbody tr th:only-of-type {\n",
       "        vertical-align: middle;\n",
       "    }\n",
       "\n",
       "    .dataframe tbody tr th {\n",
       "        vertical-align: top;\n",
       "    }\n",
       "\n",
       "    .dataframe thead th {\n",
       "        text-align: right;\n",
       "    }\n",
       "</style>\n",
       "<table border=\"1\" class=\"dataframe\">\n",
       "  <thead>\n",
       "    <tr style=\"text-align: right;\">\n",
       "      <th></th>\n",
       "      <th>RowNumber</th>\n",
       "      <th>CustomerId</th>\n",
       "      <th>Surname</th>\n",
       "      <th>CreditScore</th>\n",
       "      <th>Geography</th>\n",
       "      <th>Gender</th>\n",
       "      <th>Age</th>\n",
       "      <th>Tenure</th>\n",
       "      <th>Balance</th>\n",
       "      <th>NumOfProducts</th>\n",
       "      <th>HasCrCard</th>\n",
       "      <th>IsActiveMember</th>\n",
       "      <th>EstimatedSalary</th>\n",
       "      <th>Exited</th>\n",
       "    </tr>\n",
       "  </thead>\n",
       "  <tbody>\n",
       "    <tr>\n",
       "      <th>0</th>\n",
       "      <td>1</td>\n",
       "      <td>15634602</td>\n",
       "      <td>Hargrave</td>\n",
       "      <td>619</td>\n",
       "      <td>France</td>\n",
       "      <td>Female</td>\n",
       "      <td>42.0</td>\n",
       "      <td>2</td>\n",
       "      <td>0.00</td>\n",
       "      <td>1</td>\n",
       "      <td>1.0</td>\n",
       "      <td>1.0</td>\n",
       "      <td>101348.88</td>\n",
       "      <td>1</td>\n",
       "    </tr>\n",
       "    <tr>\n",
       "      <th>1</th>\n",
       "      <td>2</td>\n",
       "      <td>15647311</td>\n",
       "      <td>Hill</td>\n",
       "      <td>608</td>\n",
       "      <td>Spain</td>\n",
       "      <td>Female</td>\n",
       "      <td>41.0</td>\n",
       "      <td>1</td>\n",
       "      <td>83807.86</td>\n",
       "      <td>1</td>\n",
       "      <td>0.0</td>\n",
       "      <td>1.0</td>\n",
       "      <td>112542.58</td>\n",
       "      <td>0</td>\n",
       "    </tr>\n",
       "    <tr>\n",
       "      <th>2</th>\n",
       "      <td>3</td>\n",
       "      <td>15619304</td>\n",
       "      <td>Onio</td>\n",
       "      <td>502</td>\n",
       "      <td>France</td>\n",
       "      <td>Female</td>\n",
       "      <td>42.0</td>\n",
       "      <td>8</td>\n",
       "      <td>159660.80</td>\n",
       "      <td>3</td>\n",
       "      <td>1.0</td>\n",
       "      <td>0.0</td>\n",
       "      <td>113931.57</td>\n",
       "      <td>1</td>\n",
       "    </tr>\n",
       "    <tr>\n",
       "      <th>3</th>\n",
       "      <td>4</td>\n",
       "      <td>15701354</td>\n",
       "      <td>Boni</td>\n",
       "      <td>699</td>\n",
       "      <td>France</td>\n",
       "      <td>Female</td>\n",
       "      <td>39.0</td>\n",
       "      <td>1</td>\n",
       "      <td>0.00</td>\n",
       "      <td>2</td>\n",
       "      <td>0.0</td>\n",
       "      <td>0.0</td>\n",
       "      <td>93826.63</td>\n",
       "      <td>0</td>\n",
       "    </tr>\n",
       "    <tr>\n",
       "      <th>4</th>\n",
       "      <td>5</td>\n",
       "      <td>15737888</td>\n",
       "      <td>Mitchell</td>\n",
       "      <td>850</td>\n",
       "      <td>Spain</td>\n",
       "      <td>Female</td>\n",
       "      <td>43.0</td>\n",
       "      <td>2</td>\n",
       "      <td>125510.82</td>\n",
       "      <td>1</td>\n",
       "      <td>NaN</td>\n",
       "      <td>1.0</td>\n",
       "      <td>79084.10</td>\n",
       "      <td>0</td>\n",
       "    </tr>\n",
       "  </tbody>\n",
       "</table>\n",
       "</div>"
      ],
      "text/plain": [
       "   RowNumber  CustomerId   Surname  CreditScore Geography  Gender   Age  \\\n",
       "0          1    15634602  Hargrave          619    France  Female  42.0   \n",
       "1          2    15647311      Hill          608     Spain  Female  41.0   \n",
       "2          3    15619304      Onio          502    France  Female  42.0   \n",
       "3          4    15701354      Boni          699    France  Female  39.0   \n",
       "4          5    15737888  Mitchell          850     Spain  Female  43.0   \n",
       "\n",
       "   Tenure    Balance  NumOfProducts  HasCrCard  IsActiveMember  \\\n",
       "0       2       0.00              1        1.0             1.0   \n",
       "1       1   83807.86              1        0.0             1.0   \n",
       "2       8  159660.80              3        1.0             0.0   \n",
       "3       1       0.00              2        0.0             0.0   \n",
       "4       2  125510.82              1        NaN             1.0   \n",
       "\n",
       "   EstimatedSalary  Exited  \n",
       "0        101348.88       1  \n",
       "1        112542.58       0  \n",
       "2        113931.57       1  \n",
       "3         93826.63       0  \n",
       "4         79084.10       0  "
      ]
     },
     "execution_count": 5,
     "metadata": {},
     "output_type": "execute_result"
    }
   ],
   "source": [
    "df.head()"
   ]
  },
  {
   "cell_type": "code",
   "execution_count": 6,
   "id": "eacc0b50-7f6f-4a7b-9d3d-16a4eafe5bc9",
   "metadata": {},
   "outputs": [],
   "source": [
    "df = df.dropna()\n",
    "df = df.drop(['RowNumber', 'CustomerId', 'Surname'], axis=1)"
   ]
  },
  {
   "cell_type": "code",
   "execution_count": 7,
   "id": "c41e24cc-c6ab-4c0d-978c-3d932d9f3245",
   "metadata": {},
   "outputs": [
    {
     "data": {
      "text/html": [
       "<div>\n",
       "<style scoped>\n",
       "    .dataframe tbody tr th:only-of-type {\n",
       "        vertical-align: middle;\n",
       "    }\n",
       "\n",
       "    .dataframe tbody tr th {\n",
       "        vertical-align: top;\n",
       "    }\n",
       "\n",
       "    .dataframe thead th {\n",
       "        text-align: right;\n",
       "    }\n",
       "</style>\n",
       "<table border=\"1\" class=\"dataframe\">\n",
       "  <thead>\n",
       "    <tr style=\"text-align: right;\">\n",
       "      <th></th>\n",
       "      <th>CreditScore</th>\n",
       "      <th>Geography</th>\n",
       "      <th>Gender</th>\n",
       "      <th>Age</th>\n",
       "      <th>Tenure</th>\n",
       "      <th>Balance</th>\n",
       "      <th>NumOfProducts</th>\n",
       "      <th>HasCrCard</th>\n",
       "      <th>IsActiveMember</th>\n",
       "      <th>EstimatedSalary</th>\n",
       "      <th>Exited</th>\n",
       "    </tr>\n",
       "  </thead>\n",
       "  <tbody>\n",
       "    <tr>\n",
       "      <th>0</th>\n",
       "      <td>619</td>\n",
       "      <td>France</td>\n",
       "      <td>Female</td>\n",
       "      <td>42.0</td>\n",
       "      <td>2</td>\n",
       "      <td>0.00</td>\n",
       "      <td>1</td>\n",
       "      <td>1.0</td>\n",
       "      <td>1.0</td>\n",
       "      <td>101348.88</td>\n",
       "      <td>1</td>\n",
       "    </tr>\n",
       "    <tr>\n",
       "      <th>1</th>\n",
       "      <td>608</td>\n",
       "      <td>Spain</td>\n",
       "      <td>Female</td>\n",
       "      <td>41.0</td>\n",
       "      <td>1</td>\n",
       "      <td>83807.86</td>\n",
       "      <td>1</td>\n",
       "      <td>0.0</td>\n",
       "      <td>1.0</td>\n",
       "      <td>112542.58</td>\n",
       "      <td>0</td>\n",
       "    </tr>\n",
       "    <tr>\n",
       "      <th>2</th>\n",
       "      <td>502</td>\n",
       "      <td>France</td>\n",
       "      <td>Female</td>\n",
       "      <td>42.0</td>\n",
       "      <td>8</td>\n",
       "      <td>159660.80</td>\n",
       "      <td>3</td>\n",
       "      <td>1.0</td>\n",
       "      <td>0.0</td>\n",
       "      <td>113931.57</td>\n",
       "      <td>1</td>\n",
       "    </tr>\n",
       "    <tr>\n",
       "      <th>3</th>\n",
       "      <td>699</td>\n",
       "      <td>France</td>\n",
       "      <td>Female</td>\n",
       "      <td>39.0</td>\n",
       "      <td>1</td>\n",
       "      <td>0.00</td>\n",
       "      <td>2</td>\n",
       "      <td>0.0</td>\n",
       "      <td>0.0</td>\n",
       "      <td>93826.63</td>\n",
       "      <td>0</td>\n",
       "    </tr>\n",
       "    <tr>\n",
       "      <th>5</th>\n",
       "      <td>645</td>\n",
       "      <td>Spain</td>\n",
       "      <td>Male</td>\n",
       "      <td>44.0</td>\n",
       "      <td>8</td>\n",
       "      <td>113755.78</td>\n",
       "      <td>2</td>\n",
       "      <td>1.0</td>\n",
       "      <td>0.0</td>\n",
       "      <td>149756.71</td>\n",
       "      <td>1</td>\n",
       "    </tr>\n",
       "  </tbody>\n",
       "</table>\n",
       "</div>"
      ],
      "text/plain": [
       "   CreditScore Geography  Gender   Age  Tenure    Balance  NumOfProducts  \\\n",
       "0          619    France  Female  42.0       2       0.00              1   \n",
       "1          608     Spain  Female  41.0       1   83807.86              1   \n",
       "2          502    France  Female  42.0       8  159660.80              3   \n",
       "3          699    France  Female  39.0       1       0.00              2   \n",
       "5          645     Spain    Male  44.0       8  113755.78              2   \n",
       "\n",
       "   HasCrCard  IsActiveMember  EstimatedSalary  Exited  \n",
       "0        1.0             1.0        101348.88       1  \n",
       "1        0.0             1.0        112542.58       0  \n",
       "2        1.0             0.0        113931.57       1  \n",
       "3        0.0             0.0         93826.63       0  \n",
       "5        1.0             0.0        149756.71       1  "
      ]
     },
     "execution_count": 7,
     "metadata": {},
     "output_type": "execute_result"
    }
   ],
   "source": [
    "df.head()"
   ]
  },
  {
   "cell_type": "code",
   "execution_count": 8,
   "id": "26618033-9eae-4e52-884e-5047874841d9",
   "metadata": {},
   "outputs": [
    {
     "name": "stdout",
     "output_type": "stream",
     "text": [
      "(9998, 11)\n"
     ]
    }
   ],
   "source": [
    "print(df.shape)"
   ]
  },
  {
   "cell_type": "code",
   "execution_count": 9,
   "id": "4f5d85d0-664e-4e98-b7ef-caa30cd3dc12",
   "metadata": {},
   "outputs": [
    {
     "data": {
      "text/plain": [
       "CreditScore          int64\n",
       "Geography           object\n",
       "Gender              object\n",
       "Age                float64\n",
       "Tenure               int64\n",
       "Balance            float64\n",
       "NumOfProducts        int64\n",
       "HasCrCard          float64\n",
       "IsActiveMember     float64\n",
       "EstimatedSalary    float64\n",
       "Exited               int64\n",
       "dtype: object"
      ]
     },
     "execution_count": 9,
     "metadata": {},
     "output_type": "execute_result"
    }
   ],
   "source": [
    "df.dtypes"
   ]
  },
  {
   "cell_type": "code",
   "execution_count": 10,
   "id": "9c623d04-abf7-4791-ab44-82f26d6d22e2",
   "metadata": {},
   "outputs": [],
   "source": [
    "df = df.astype(dtype= {\"HasCrCard\":\"int64\",\n",
    "                       \"IsActiveMember\":\"int64\"})"
   ]
  },
  {
   "cell_type": "code",
   "execution_count": 11,
   "id": "028da6e6-5967-4449-8b5d-ebf9482e5888",
   "metadata": {},
   "outputs": [
    {
     "data": {
      "text/plain": [
       "CreditScore          int64\n",
       "Geography           object\n",
       "Gender              object\n",
       "Age                float64\n",
       "Tenure               int64\n",
       "Balance            float64\n",
       "NumOfProducts        int64\n",
       "HasCrCard            int64\n",
       "IsActiveMember       int64\n",
       "EstimatedSalary    float64\n",
       "Exited               int64\n",
       "dtype: object"
      ]
     },
     "execution_count": 11,
     "metadata": {},
     "output_type": "execute_result"
    }
   ],
   "source": [
    "df.dtypes"
   ]
  },
  {
   "cell_type": "code",
   "execution_count": 12,
   "id": "747501d8-1177-4b0b-8ac0-98bca3ddb9d4",
   "metadata": {},
   "outputs": [
    {
     "data": {
      "text/html": [
       "<div>\n",
       "<style scoped>\n",
       "    .dataframe tbody tr th:only-of-type {\n",
       "        vertical-align: middle;\n",
       "    }\n",
       "\n",
       "    .dataframe tbody tr th {\n",
       "        vertical-align: top;\n",
       "    }\n",
       "\n",
       "    .dataframe thead th {\n",
       "        text-align: right;\n",
       "    }\n",
       "</style>\n",
       "<table border=\"1\" class=\"dataframe\">\n",
       "  <thead>\n",
       "    <tr style=\"text-align: right;\">\n",
       "      <th></th>\n",
       "      <th>CreditScore</th>\n",
       "      <th>Age</th>\n",
       "      <th>Tenure</th>\n",
       "      <th>Balance</th>\n",
       "      <th>NumOfProducts</th>\n",
       "      <th>HasCrCard</th>\n",
       "      <th>IsActiveMember</th>\n",
       "      <th>EstimatedSalary</th>\n",
       "      <th>Exited</th>\n",
       "    </tr>\n",
       "  </thead>\n",
       "  <tbody>\n",
       "    <tr>\n",
       "      <th>count</th>\n",
       "      <td>9998.000000</td>\n",
       "      <td>9998.000000</td>\n",
       "      <td>9998.000000</td>\n",
       "      <td>9998.000000</td>\n",
       "      <td>9998.000000</td>\n",
       "      <td>9998.000000</td>\n",
       "      <td>9998.000000</td>\n",
       "      <td>9998.000000</td>\n",
       "      <td>9998.000000</td>\n",
       "    </tr>\n",
       "    <tr>\n",
       "      <th>mean</th>\n",
       "      <td>650.529606</td>\n",
       "      <td>38.920287</td>\n",
       "      <td>5.013003</td>\n",
       "      <td>76481.490819</td>\n",
       "      <td>1.530206</td>\n",
       "      <td>0.705541</td>\n",
       "      <td>0.514803</td>\n",
       "      <td>100099.786455</td>\n",
       "      <td>0.203841</td>\n",
       "    </tr>\n",
       "    <tr>\n",
       "      <th>std</th>\n",
       "      <td>96.633003</td>\n",
       "      <td>10.487986</td>\n",
       "      <td>2.892152</td>\n",
       "      <td>62393.187035</td>\n",
       "      <td>0.581669</td>\n",
       "      <td>0.455822</td>\n",
       "      <td>0.499806</td>\n",
       "      <td>57510.939962</td>\n",
       "      <td>0.402872</td>\n",
       "    </tr>\n",
       "    <tr>\n",
       "      <th>min</th>\n",
       "      <td>350.000000</td>\n",
       "      <td>18.000000</td>\n",
       "      <td>0.000000</td>\n",
       "      <td>0.000000</td>\n",
       "      <td>1.000000</td>\n",
       "      <td>0.000000</td>\n",
       "      <td>0.000000</td>\n",
       "      <td>11.580000</td>\n",
       "      <td>0.000000</td>\n",
       "    </tr>\n",
       "    <tr>\n",
       "      <th>25%</th>\n",
       "      <td>584.000000</td>\n",
       "      <td>32.000000</td>\n",
       "      <td>3.000000</td>\n",
       "      <td>0.000000</td>\n",
       "      <td>1.000000</td>\n",
       "      <td>0.000000</td>\n",
       "      <td>0.000000</td>\n",
       "      <td>50983.750000</td>\n",
       "      <td>0.000000</td>\n",
       "    </tr>\n",
       "    <tr>\n",
       "      <th>50%</th>\n",
       "      <td>652.000000</td>\n",
       "      <td>37.000000</td>\n",
       "      <td>5.000000</td>\n",
       "      <td>97173.290000</td>\n",
       "      <td>1.000000</td>\n",
       "      <td>1.000000</td>\n",
       "      <td>1.000000</td>\n",
       "      <td>100218.210000</td>\n",
       "      <td>0.000000</td>\n",
       "    </tr>\n",
       "    <tr>\n",
       "      <th>75%</th>\n",
       "      <td>718.000000</td>\n",
       "      <td>44.000000</td>\n",
       "      <td>7.000000</td>\n",
       "      <td>127641.417500</td>\n",
       "      <td>2.000000</td>\n",
       "      <td>1.000000</td>\n",
       "      <td>1.000000</td>\n",
       "      <td>149395.882500</td>\n",
       "      <td>0.000000</td>\n",
       "    </tr>\n",
       "    <tr>\n",
       "      <th>max</th>\n",
       "      <td>850.000000</td>\n",
       "      <td>92.000000</td>\n",
       "      <td>10.000000</td>\n",
       "      <td>250898.090000</td>\n",
       "      <td>4.000000</td>\n",
       "      <td>1.000000</td>\n",
       "      <td>1.000000</td>\n",
       "      <td>199992.480000</td>\n",
       "      <td>1.000000</td>\n",
       "    </tr>\n",
       "  </tbody>\n",
       "</table>\n",
       "</div>"
      ],
      "text/plain": [
       "       CreditScore          Age       Tenure        Balance  NumOfProducts  \\\n",
       "count  9998.000000  9998.000000  9998.000000    9998.000000    9998.000000   \n",
       "mean    650.529606    38.920287     5.013003   76481.490819       1.530206   \n",
       "std      96.633003    10.487986     2.892152   62393.187035       0.581669   \n",
       "min     350.000000    18.000000     0.000000       0.000000       1.000000   \n",
       "25%     584.000000    32.000000     3.000000       0.000000       1.000000   \n",
       "50%     652.000000    37.000000     5.000000   97173.290000       1.000000   \n",
       "75%     718.000000    44.000000     7.000000  127641.417500       2.000000   \n",
       "max     850.000000    92.000000    10.000000  250898.090000       4.000000   \n",
       "\n",
       "         HasCrCard  IsActiveMember  EstimatedSalary       Exited  \n",
       "count  9998.000000     9998.000000      9998.000000  9998.000000  \n",
       "mean      0.705541        0.514803    100099.786455     0.203841  \n",
       "std       0.455822        0.499806     57510.939962     0.402872  \n",
       "min       0.000000        0.000000        11.580000     0.000000  \n",
       "25%       0.000000        0.000000     50983.750000     0.000000  \n",
       "50%       1.000000        1.000000    100218.210000     0.000000  \n",
       "75%       1.000000        1.000000    149395.882500     0.000000  \n",
       "max       1.000000        1.000000    199992.480000     1.000000  "
      ]
     },
     "execution_count": 12,
     "metadata": {},
     "output_type": "execute_result"
    }
   ],
   "source": [
    "df.describe()"
   ]
  },
  {
   "cell_type": "code",
   "execution_count": 13,
   "id": "8e9d4467-3490-4fda-8a0c-74647cae8093",
   "metadata": {},
   "outputs": [
    {
     "data": {
      "text/plain": [
       "Geography\n",
       "France     5012\n",
       "Germany    2510\n",
       "Spain      2476\n",
       "Name: count, dtype: int64"
      ]
     },
     "execution_count": 13,
     "metadata": {},
     "output_type": "execute_result"
    }
   ],
   "source": [
    "df['Geography'].value_counts()"
   ]
  },
  {
   "cell_type": "code",
   "execution_count": 14,
   "id": "af168d84-e428-4669-8371-6e9765cc0164",
   "metadata": {},
   "outputs": [
    {
     "data": {
      "text/plain": [
       "Gender\n",
       "Male      5455\n",
       "Female    4543\n",
       "Name: count, dtype: int64"
      ]
     },
     "execution_count": 14,
     "metadata": {},
     "output_type": "execute_result"
    }
   ],
   "source": [
    "df['Gender'].value_counts()"
   ]
  },
  {
   "cell_type": "code",
   "execution_count": null,
   "id": "69458b92-07df-4366-9757-7efbe117fbad",
   "metadata": {},
   "outputs": [],
   "source": []
  },
  {
   "cell_type": "markdown",
   "id": "83c8bb83-b964-4804-978a-80c794e483ae",
   "metadata": {},
   "source": [
    "# Training/Validation Data Split\n",
    "80-20 split"
   ]
  },
  {
   "cell_type": "code",
   "execution_count": 15,
   "id": "7adec71b-c264-4575-b436-076ba9a71eec",
   "metadata": {},
   "outputs": [
    {
     "name": "stdout",
     "output_type": "stream",
     "text": [
      "Using 7998 samples for training and 2000 for validation\n"
     ]
    }
   ],
   "source": [
    "val_df = df.sample(frac=0.2, random_state=1337)\n",
    "train_df = df.drop(val_df.index)\n",
    "\n",
    "print(\n",
    "    \"Using %d samples for training and %d for validation\"\n",
    "    % (len(train_df), len(val_df))\n",
    ")"
   ]
  },
  {
   "cell_type": "code",
   "execution_count": 16,
   "id": "34730227-dba4-42d7-b71d-11264982a8e2",
   "metadata": {},
   "outputs": [],
   "source": [
    "label_col_name = \"Exited\"\n",
    "\n",
    "def dataframe_to_dataset(df):\n",
    "    df = df.copy()\n",
    "    labels = df.pop(label_col_name)\n",
    "    ds = tf.data.Dataset.from_tensor_slices((dict(df), labels))\n",
    "    ds = ds.shuffle(buffer_size=len(df))\n",
    "    return ds\n",
    "\n",
    "train_ds = dataframe_to_dataset(train_df)\n",
    "val_ds = dataframe_to_dataset(val_df)"
   ]
  },
  {
   "cell_type": "code",
   "execution_count": 17,
   "id": "6cc4461f-7e06-4edf-bae2-bb6c6906e110",
   "metadata": {},
   "outputs": [
    {
     "name": "stdout",
     "output_type": "stream",
     "text": [
      "Input: {'CreditScore': <tf.Tensor: shape=(), dtype=int64, numpy=738>, 'Geography': <tf.Tensor: shape=(), dtype=string, numpy=b'Germany'>, 'Gender': <tf.Tensor: shape=(), dtype=string, numpy=b'Female'>, 'Age': <tf.Tensor: shape=(), dtype=float64, numpy=29.0>, 'Tenure': <tf.Tensor: shape=(), dtype=int64, numpy=9>, 'Balance': <tf.Tensor: shape=(), dtype=float64, numpy=139106.19>, 'NumOfProducts': <tf.Tensor: shape=(), dtype=int64, numpy=1>, 'HasCrCard': <tf.Tensor: shape=(), dtype=int64, numpy=1>, 'IsActiveMember': <tf.Tensor: shape=(), dtype=int64, numpy=0>, 'EstimatedSalary': <tf.Tensor: shape=(), dtype=float64, numpy=141872.05>}\n",
      "Target: tf.Tensor(1, shape=(), dtype=int64)\n"
     ]
    }
   ],
   "source": [
    "for x, y in train_ds.take(1):\n",
    "    print(\"Input:\", x)\n",
    "    print(\"Target:\", y)"
   ]
  },
  {
   "cell_type": "code",
   "execution_count": 18,
   "id": "10e4409e-ed91-4935-82ad-24d61db2b09d",
   "metadata": {},
   "outputs": [],
   "source": [
    "batch_size = 32\n",
    "\n",
    "train_ds = train_ds.batch(batch_size)\n",
    "val_ds = val_ds.batch(batch_size)"
   ]
  },
  {
   "cell_type": "code",
   "execution_count": null,
   "id": "00276849-1f03-4721-bbb2-2500550952ee",
   "metadata": {},
   "outputs": [],
   "source": []
  },
  {
   "cell_type": "markdown",
   "id": "2b1e74d3-8587-4a22-bd60-dfbf0d16778c",
   "metadata": {},
   "source": [
    "# FeatureSpace Configuration"
   ]
  },
  {
   "cell_type": "code",
   "execution_count": 19,
   "id": "970d8dee-2611-442b-a788-cf760ee03379",
   "metadata": {},
   "outputs": [],
   "source": [
    "feature_space = FeatureSpace(\n",
    "    features={\n",
    "        # Categorical features encoded as integers\n",
    "        \"Tenure\": FeatureSpace.integer_categorical(num_oov_indices=0),\n",
    "        \"NumOfProducts\": FeatureSpace.integer_categorical(num_oov_indices=0),\n",
    "        \"HasCrCard\": FeatureSpace.integer_categorical(num_oov_indices=0),\n",
    "        \"IsActiveMember\": FeatureSpace.integer_categorical(num_oov_indices=0),\n",
    "        \n",
    "        # Categorical feature encoded as string\n",
    "        \"Geography\": FeatureSpace.string_categorical(num_oov_indices=0),\n",
    "        \"Gender\": FeatureSpace.string_categorical(num_oov_indices=0),\n",
    "\n",
    "        # Numerical features to discretize\n",
    "        \"Age\": FeatureSpace.float_discretized(num_bins=30),\n",
    "        \"CreditScore\": FeatureSpace.float_discretized(num_bins=50), # Sredit score ranges from 300 to 850\n",
    "\n",
    "        # Numerical features to normalize\n",
    "        \"Balance\": FeatureSpace.float_normalized(),\n",
    "        \"EstimatedSalary\": FeatureSpace.float_normalized(),\n",
    "    },\n",
    "    output_mode=\"concat\",\n",
    ")"
   ]
  },
  {
   "cell_type": "code",
   "execution_count": 20,
   "id": "54dc2d1c-d40b-40d1-b7a6-18302f0d5477",
   "metadata": {},
   "outputs": [
    {
     "name": "stdout",
     "output_type": "stream",
     "text": [
      "({'CreditScore': <tf.Tensor: shape=(32,), dtype=int64, numpy=\n",
      "array([430, 608, 704, 644, 707, 619, 581, 578, 647, 796, 714, 650, 615,\n",
      "       567, 551, 598, 614, 749, 713, 546, 755, 752, 634, 720, 698, 681,\n",
      "       757, 529, 749, 563, 562, 751], dtype=int64)>, 'Geography': <tf.Tensor: shape=(32,), dtype=string, numpy=\n",
      "array([b'Germany', b'Spain', b'France', b'Spain', b'Spain', b'France',\n",
      "       b'France', b'France', b'France', b'Germany', b'Spain', b'Germany',\n",
      "       b'France', b'Germany', b'France', b'Spain', b'France', b'France',\n",
      "       b'France', b'France', b'Germany', b'Spain', b'France', b'Spain',\n",
      "       b'France', b'France', b'Germany', b'Spain', b'Spain', b'France',\n",
      "       b'France', b'Germany'], dtype=object)>, 'Gender': <tf.Tensor: shape=(32,), dtype=string, numpy=\n",
      "array([b'Female', b'Female', b'Male', b'Male', b'Female', b'Female',\n",
      "       b'Female', b'Male', b'Female', b'Female', b'Male', b'Female',\n",
      "       b'Male', b'Male', b'Female', b'Male', b'Male', b'Male', b'Female',\n",
      "       b'Female', b'Female', b'Male', b'Male', b'Male', b'Female',\n",
      "       b'Female', b'Male', b'Female', b'Male', b'Female', b'Male',\n",
      "       b'Female'], dtype=object)>, 'Age': <tf.Tensor: shape=(32,), dtype=float64, numpy=\n",
      "array([38., 41., 47., 28., 52., 28., 55., 50., 40., 52., 34., 25., 41.,\n",
      "       41., 36., 27., 49., 41., 52., 27., 45., 48., 37., 33., 51., 43.,\n",
      "       30., 35., 34., 39., 33., 36.])>, 'Tenure': <tf.Tensor: shape=(32,), dtype=int64, numpy=\n",
      "array([8, 1, 5, 0, 7, 3, 6, 5, 9, 9, 5, 2, 4, 0, 5, 8, 1, 5, 0, 8, 7, 5,\n",
      "       5, 6, 6, 8, 6, 5, 2, 5, 6, 6], dtype=int64)>, 'Balance': <tf.Tensor: shape=(32,), dtype=float64, numpy=\n",
      "array([153058.64,  83807.86,      0.  ,      0.  ,      0.  ,      0.  ,\n",
      "            0.  , 151215.34,      0.  , 167194.36,      0.  , 114330.95,\n",
      "       130385.82, 134378.89,      0.  ,  90721.52,      0.  ,  57568.94,\n",
      "       185891.54,      0.  , 135643.  , 116060.08, 115345.86,  97188.62,\n",
      "       144237.91, 154100.3 , 105128.85,      0.  ,      0.  ,      0.  ,\n",
      "            0.  , 169831.46])>, 'NumOfProducts': <tf.Tensor: shape=(32,), dtype=int64, numpy=\n",
      "array([1, 1, 2, 2, 1, 2, 1, 2, 2, 1, 2, 1, 1, 1, 1, 2, 2, 1, 1, 2, 1, 1,\n",
      "       2, 1, 4, 1, 2, 2, 1, 2, 2, 2], dtype=int64)>, 'HasCrCard': <tf.Tensor: shape=(32,), dtype=int64, numpy=\n",
      "array([1, 0, 1, 1, 1, 1, 1, 1, 0, 1, 1, 1, 0, 1, 1, 1, 1, 1, 1, 1, 0, 1,\n",
      "       0, 0, 1, 0, 1, 1, 0, 1, 1, 1], dtype=int64)>, 'IsActiveMember': <tf.Tensor: shape=(32,), dtype=int64, numpy=\n",
      "array([0, 1, 1, 0, 0, 0, 1, 0, 1, 1, 0, 1, 1, 1, 0, 0, 0, 1, 1, 1, 0, 0,\n",
      "       0, 0, 0, 0, 1, 0, 0, 1, 0, 1], dtype=int64)>, 'EstimatedSalary': <tf.Tensor: shape=(32,), dtype=float64, numpy=\n",
      "array([ 99377.27, 112542.58, 145338.61, 119419.37, 109688.82,  53394.12,\n",
      "        22442.13, 169804.4 ,  92357.21,  62808.93, 193040.32,  25325.07,\n",
      "       130661.95, 105746.94, 183479.12, 109296.18, 192440.54,  61128.29,\n",
      "        46369.57,  14858.1 , 143619.52, 156618.38, 168781.8 ,  91881.29,\n",
      "       157143.61, 114659.81,  62972.13,  56518.  , 174189.04,  17603.81,\n",
      "       111590.35,  27758.36])>}, <tf.Tensor: shape=(32,), dtype=int64, numpy=\n",
      "array([0, 0, 0, 0, 1, 0, 0, 0, 0, 1, 0, 0, 0, 0, 0, 0, 0, 0, 1, 0, 1, 1,\n",
      "       0, 0, 1, 0, 0, 0, 1, 0, 0, 0], dtype=int64)>)\n"
     ]
    }
   ],
   "source": [
    "for x in train_ds.take(1):\n",
    "    print(x)"
   ]
  },
  {
   "cell_type": "code",
   "execution_count": 21,
   "id": "8a0636b9-8253-4682-97bc-696320e7ca2a",
   "metadata": {},
   "outputs": [
    {
     "name": "stdout",
     "output_type": "stream",
     "text": [
      "{'CreditScore': <tf.Tensor: shape=(32,), dtype=int64, numpy=\n",
      "array([686, 667, 449, 609, 838, 726, 542, 678, 667, 587, 705, 554, 728,\n",
      "       445, 609, 684, 584, 512, 689, 589, 656, 565, 575, 592, 542, 634,\n",
      "       828, 554, 516, 850, 723, 556], dtype=int64)>, 'Geography': <tf.Tensor: shape=(32,), dtype=string, numpy=\n",
      "array([b'Germany', b'Spain', b'France', b'Spain', b'Spain', b'Germany',\n",
      "       b'France', b'Germany', b'France', b'France', b'France', b'France',\n",
      "       b'Spain', b'France', b'Spain', b'France', b'France', b'France',\n",
      "       b'France', b'France', b'Spain', b'France', b'France', b'France',\n",
      "       b'France', b'Germany', b'France', b'Spain', b'France', b'Germany',\n",
      "       b'France', b'France'], dtype=object)>, 'Gender': <tf.Tensor: shape=(32,), dtype=string, numpy=\n",
      "array([b'Female', b'Female', b'Female', b'Male', b'Male', b'Female',\n",
      "       b'Female', b'Male', b'Male', b'Male', b'Male', b'Female',\n",
      "       b'Female', b'Female', b'Male', b'Female', b'Male', b'Female',\n",
      "       b'Female', b'Male', b'Female', b'Female', b'Female', b'Male',\n",
      "       b'Female', b'Male', b'Male', b'Male', b'Male', b'Female', b'Male',\n",
      "       b'Female'], dtype=object)>, 'Age': <tf.Tensor: shape=(32,), dtype=float64, numpy=\n",
      "array([39., 39., 21., 32., 35., 33., 29., 36., 40., 33., 30., 35., 43.,\n",
      "       30., 61., 41., 35., 31., 29., 36., 41., 38., 40., 29., 59., 74.,\n",
      "       31., 42., 35., 31., 28., 51.])>, 'Tenure': <tf.Tensor: shape=(32,), dtype=int64, numpy=\n",
      "array([ 4,  2,  7,  4,  0,  7,  7,  3,  9,  8,  1,  6,  5,  3,  1,  6,  9,\n",
      "        7,  1,  8,  6,  5,  1,  7,  2,  5,  9,  1, 10,  4,  4,  8],\n",
      "      dtype=int64)>, 'Balance': <tf.Tensor: shape=(32,), dtype=float64, numpy=\n",
      "array([157731.6 ,      0.  ,      0.  ,  99883.16,      0.  ,  99046.31,\n",
      "            0.  , 145747.67,      0.  , 148163.57,      0.  , 117707.18,\n",
      "            0.  ,      0.  ,      0.  , 135203.81,      0.  ,      0.  ,\n",
      "        77556.79, 114435.47, 101179.23, 126645.13, 139532.34,      0.  ,\n",
      "        68892.77, 108891.7 ,      0.  ,      0.  ,  57369.61, 164672.66,\n",
      "            0.  ,  61354.14])>, 'NumOfProducts': <tf.Tensor: shape=(32,), dtype=int64, numpy=\n",
      "array([2, 2, 2, 1, 2, 2, 2, 2, 1, 1, 1, 2, 1, 2, 1, 2, 2, 2, 2, 1, 2, 1,\n",
      "       1, 2, 2, 1, 1, 2, 1, 1, 2, 1], dtype=int64)>, 'HasCrCard': <tf.Tensor: shape=(32,), dtype=int64, numpy=\n",
      "array([1, 1, 0, 1, 0, 1, 0, 0, 1, 0, 1, 0, 1, 1, 1, 1, 1, 0, 1, 1, 1, 1,\n",
      "       1, 1, 1, 1, 0, 0, 1, 0, 1, 1], dtype=int64)>, 'IsActiveMember': <tf.Tensor: shape=(32,), dtype=int64, numpy=\n",
      "array([0, 0, 0, 1, 1, 1, 1, 1, 1, 0, 1, 0, 1, 1, 0, 1, 0, 0, 1, 0, 1, 1,\n",
      "       0, 1, 0, 0, 1, 1, 1, 1, 1, 0], dtype=int64)>, 'EstimatedSalary': <tf.Tensor: shape=(32,), dtype=float64, numpy=\n",
      "array([162820.6 ,  40721.24, 175743.92, 120594.85, 197305.91,  56053.06,\n",
      "       196651.72,  89566.74,  96670.2 , 122925.4 , 181300.32,  95277.15,\n",
      "       120088.17, 127939.19,  22447.85, 121967.88, 192381.21,  49326.07,\n",
      "       122998.26,  26955.72,  35230.61, 168303.55, 181294.39,  91196.67,\n",
      "         7905.06,  10078.02, 164257.37, 183492.9 , 101699.77,  61936.1 ,\n",
      "       123885.88, 198810.65])>}\n"
     ]
    }
   ],
   "source": [
    "for x in train_ds.map(lambda x, _: x).take(1):\n",
    "    print(x)"
   ]
  },
  {
   "cell_type": "code",
   "execution_count": 22,
   "id": "717a65a3-e17c-438b-9d99-2363d9af6fc3",
   "metadata": {},
   "outputs": [
    {
     "name": "stdout",
     "output_type": "stream",
     "text": [
      "WARNING:tensorflow:From C:\\Users\\yangy\\anaconda3\\envs\\rdai\\Lib\\site-packages\\keras\\src\\backend\\tensorflow\\core.py:204: The name tf.placeholder is deprecated. Please use tf.compat.v1.placeholder instead.\n",
      "\n"
     ]
    }
   ],
   "source": [
    "train_ds_with_no_labels = train_ds.map(lambda x, _: x)\n",
    "feature_space.adapt(train_ds_with_no_labels)"
   ]
  },
  {
   "cell_type": "code",
   "execution_count": 23,
   "id": "0201a724-18b5-4061-bdc7-8d49b50da18f",
   "metadata": {},
   "outputs": [
    {
     "name": "stdout",
     "output_type": "stream",
     "text": [
      "preprocessed_x.shape: (32, 106)\n",
      "preprocessed_x.dtype: <dtype: 'float32'>\n"
     ]
    }
   ],
   "source": [
    "for x, _ in train_ds.take(1):\n",
    "    preprocessed_x = feature_space(x)\n",
    "    print(\"preprocessed_x.shape:\", preprocessed_x.shape)\n",
    "    print(\"preprocessed_x.dtype:\", preprocessed_x.dtype)"
   ]
  },
  {
   "cell_type": "code",
   "execution_count": 24,
   "id": "b01a0a4f-2d98-4fbe-9ced-764c4c916613",
   "metadata": {},
   "outputs": [],
   "source": [
    "preprocessed_train_ds = train_ds.map(\n",
    "    lambda x, y: (feature_space(x), y), num_parallel_calls=tf.data.AUTOTUNE\n",
    ")\n",
    "preprocessed_train_ds = preprocessed_train_ds.prefetch(tf.data.AUTOTUNE)\n",
    "\n",
    "preprocessed_val_ds = val_ds.map(\n",
    "    lambda x, y: (feature_space(x), y), num_parallel_calls=tf.data.AUTOTUNE\n",
    ")\n",
    "preprocessed_val_ds = preprocessed_val_ds.prefetch(tf.data.AUTOTUNE)"
   ]
  },
  {
   "cell_type": "code",
   "execution_count": null,
   "id": "f7de5045-a4c3-472b-91e3-e953134d9d84",
   "metadata": {},
   "outputs": [],
   "source": []
  },
  {
   "cell_type": "markdown",
   "id": "d5c06ee6-cc29-45c8-8c64-0f2b3eccc5e2",
   "metadata": {},
   "source": [
    "# Model Training"
   ]
  },
  {
   "cell_type": "code",
   "execution_count": 25,
   "id": "db4d3105-be90-400f-967d-0e44c21b19d6",
   "metadata": {},
   "outputs": [],
   "source": [
    "dict_inputs = feature_space.get_inputs()\n",
    "encoded_features = feature_space.get_encoded_features()\n",
    "\n",
    "x = keras.layers.Dense(64, activation=\"relu\")(encoded_features)\n",
    "x = keras.layers.Dense(32, activation=\"relu\")(encoded_features)\n",
    "x = keras.layers.Dropout(0.2)(x)\n",
    "x = keras.layers.Dense(16, activation=\"relu\")(encoded_features)\n",
    "x = keras.layers.Dense(8, activation=\"relu\")(encoded_features)\n",
    "predictions = keras.layers.Dense(1, activation=\"sigmoid\")(x)\n",
    "\n",
    "learning_rate = 0.01\n",
    "opt = keras.optimizers.Adam(learning_rate=learning_rate)\n",
    "training_model = keras.Model(inputs=encoded_features, outputs=predictions)\n",
    "training_model.compile(\n",
    "    optimizer=\"adam\", loss=\"binary_crossentropy\", metrics=[\"accuracy\"]\n",
    ")\n",
    "\n",
    "inference_model = keras.Model(inputs=dict_inputs, outputs=predictions)"
   ]
  },
  {
   "cell_type": "code",
   "execution_count": 26,
   "id": "308fced0-fb11-4cea-88f7-e71a6054af89",
   "metadata": {},
   "outputs": [
    {
     "name": "stdout",
     "output_type": "stream",
     "text": [
      "Epoch 1/20\n",
      "250/250 - 1s - 4ms/step - accuracy: 0.7752 - loss: 0.5170 - val_accuracy: 0.8125 - val_loss: 0.4358\n",
      "Epoch 2/20\n",
      "250/250 - 0s - 1ms/step - accuracy: 0.8165 - loss: 0.4119 - val_accuracy: 0.8495 - val_loss: 0.3805\n",
      "Epoch 3/20\n",
      "250/250 - 0s - 1ms/step - accuracy: 0.8448 - loss: 0.3685 - val_accuracy: 0.8595 - val_loss: 0.3610\n",
      "Epoch 4/20\n",
      "250/250 - 0s - 1ms/step - accuracy: 0.8513 - loss: 0.3534 - val_accuracy: 0.8600 - val_loss: 0.3547\n",
      "Epoch 5/20\n",
      "250/250 - 0s - 1ms/step - accuracy: 0.8552 - loss: 0.3486 - val_accuracy: 0.8620 - val_loss: 0.3534\n",
      "Epoch 6/20\n",
      "250/250 - 0s - 1ms/step - accuracy: 0.8562 - loss: 0.3459 - val_accuracy: 0.8590 - val_loss: 0.3544\n",
      "Epoch 7/20\n",
      "250/250 - 0s - 1ms/step - accuracy: 0.8580 - loss: 0.3440 - val_accuracy: 0.8510 - val_loss: 0.3589\n",
      "Epoch 8/20\n",
      "250/250 - 0s - 1ms/step - accuracy: 0.8570 - loss: 0.3429 - val_accuracy: 0.8545 - val_loss: 0.3562\n",
      "Epoch 9/20\n",
      "250/250 - 0s - 1ms/step - accuracy: 0.8591 - loss: 0.3419 - val_accuracy: 0.8495 - val_loss: 0.3568\n",
      "Epoch 10/20\n",
      "250/250 - 0s - 1ms/step - accuracy: 0.8568 - loss: 0.3410 - val_accuracy: 0.8595 - val_loss: 0.3541\n",
      "Epoch 11/20\n",
      "250/250 - 0s - 1ms/step - accuracy: 0.8576 - loss: 0.3397 - val_accuracy: 0.8595 - val_loss: 0.3539\n",
      "Epoch 12/20\n",
      "250/250 - 0s - 1ms/step - accuracy: 0.8580 - loss: 0.3390 - val_accuracy: 0.8555 - val_loss: 0.3533\n",
      "Epoch 13/20\n",
      "250/250 - 0s - 1ms/step - accuracy: 0.8615 - loss: 0.3376 - val_accuracy: 0.8500 - val_loss: 0.3586\n",
      "Epoch 14/20\n",
      "250/250 - 0s - 1ms/step - accuracy: 0.8577 - loss: 0.3373 - val_accuracy: 0.8550 - val_loss: 0.3550\n",
      "Epoch 15/20\n",
      "250/250 - 0s - 1ms/step - accuracy: 0.8582 - loss: 0.3363 - val_accuracy: 0.8505 - val_loss: 0.3571\n",
      "Epoch 16/20\n",
      "250/250 - 0s - 1ms/step - accuracy: 0.8582 - loss: 0.3356 - val_accuracy: 0.8545 - val_loss: 0.3554\n",
      "Epoch 17/20\n",
      "250/250 - 0s - 1ms/step - accuracy: 0.8600 - loss: 0.3349 - val_accuracy: 0.8595 - val_loss: 0.3550\n",
      "Epoch 18/20\n",
      "250/250 - 0s - 1ms/step - accuracy: 0.8583 - loss: 0.3341 - val_accuracy: 0.8565 - val_loss: 0.3551\n",
      "Epoch 19/20\n",
      "250/250 - 0s - 1ms/step - accuracy: 0.8590 - loss: 0.3328 - val_accuracy: 0.8570 - val_loss: 0.3561\n",
      "Epoch 20/20\n",
      "250/250 - 0s - 1ms/step - accuracy: 0.8597 - loss: 0.3328 - val_accuracy: 0.8560 - val_loss: 0.3557\n"
     ]
    },
    {
     "data": {
      "text/plain": [
       "<keras.src.callbacks.history.History at 0x2192034eff0>"
      ]
     },
     "execution_count": 26,
     "metadata": {},
     "output_type": "execute_result"
    }
   ],
   "source": [
    "training_model.fit(\n",
    "    preprocessed_train_ds,\n",
    "    epochs=20,\n",
    "    validation_data=preprocessed_val_ds,\n",
    "    verbose=2,\n",
    ")"
   ]
  },
  {
   "cell_type": "code",
   "execution_count": null,
   "id": "d2497207-1838-4661-9a90-bf037d54c093",
   "metadata": {},
   "outputs": [],
   "source": []
  },
  {
   "cell_type": "markdown",
   "id": "6ef57ad5-47e4-48b7-af60-fbd266505c27",
   "metadata": {},
   "source": [
    "# Inference"
   ]
  },
  {
   "cell_type": "code",
   "execution_count": 27,
   "id": "a4d1a401-177a-42f2-9a8f-b72b7a5b7158",
   "metadata": {},
   "outputs": [
    {
     "name": "stdout",
     "output_type": "stream",
     "text": [
      "\u001b[1m1/1\u001b[0m \u001b[32m━━━━━━━━━━━━━━━━━━━━\u001b[0m\u001b[37m\u001b[0m \u001b[1m0s\u001b[0m 161ms/step\n",
      "This particular bank customer had a 9.10% probability of churning/exiting, as evaluated by our model.\n"
     ]
    }
   ],
   "source": [
    "sample = {\n",
    "    \"CreditScore\": 789,\n",
    "    \"Geography\": \"Germany\",\t\n",
    "    \"Gender\": \"Male\",\n",
    "    \"Age\": 23,\n",
    "    \"Tenure\": 2,\n",
    "    \"Balance\": 50000,\n",
    "    \"NumOfProducts\": 1,\n",
    "    \"HasCrCard\": 1,\n",
    "    \"IsActiveMember\": 1,\n",
    "    \"EstimatedSalary\": 100000\n",
    "}\n",
    "\n",
    "input_dict = {name: tf.convert_to_tensor([value]) for name, value in sample.items()}\n",
    "predictions = inference_model.predict(input_dict)\n",
    "\n",
    "print(\n",
    "    f\"This particular bank customer had a {100 * predictions[0][0]:.2f}% probability \"\n",
    "    \"of churning/exiting, as evaluated by our model.\"\n",
    ")"
   ]
  },
  {
   "cell_type": "code",
   "execution_count": null,
   "id": "a90b6edb-79b3-457e-b320-f479e45697b2",
   "metadata": {},
   "outputs": [],
   "source": []
  }
 ],
 "metadata": {
  "kernelspec": {
   "display_name": "Python [conda env:rdai] *",
   "language": "python",
   "name": "conda-env-rdai-py"
  },
  "language_info": {
   "codemirror_mode": {
    "name": "ipython",
    "version": 3
   },
   "file_extension": ".py",
   "mimetype": "text/x-python",
   "name": "python",
   "nbconvert_exporter": "python",
   "pygments_lexer": "ipython3",
   "version": "3.12.5"
  }
 },
 "nbformat": 4,
 "nbformat_minor": 5
}
